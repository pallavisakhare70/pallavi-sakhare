{
 "cells": [
  {
   "cell_type": "code",
   "execution_count": 1,
   "id": "eaa1a3bd-644b-49c6-a2a4-7e28ad67c570",
   "metadata": {},
   "outputs": [],
   "source": [
    "import matplotlib.pyplot as plt\n",
    "import numpy as np\n",
    "import pandas as pd\n",
    "import seaborn as sns\n",
    "import matplotlib as mp1"
   ]
  },
  {
   "cell_type": "code",
   "execution_count": 2,
   "id": "580e4cb0-1f42-461e-a3e6-bfa991e37e4e",
   "metadata": {},
   "outputs": [],
   "source": [
    "mp1.rc('axes',labelsize=14)\n",
    "mp1.rc('xtick',labelsize=12)\n",
    "mp1.rc('ytick',labelsize=12)"
   ]
  },
  {
   "cell_type": "markdown",
   "id": "48a5bd29-5f48-45ec-b415-045c58c5abfa",
   "metadata": {},
   "source": [
    "## Fetch dataset from openml by name dataset.id"
   ]
  },
  {
   "cell_type": "code",
   "execution_count": 3,
   "id": "4c5b0272-3c03-4c04-9ad7-660b07e15f5d",
   "metadata": {},
   "outputs": [],
   "source": [
    "import warnings\n",
    "warnings.filterwarnings(\"ignore\")"
   ]
  },
  {
   "cell_type": "code",
   "execution_count": 4,
   "id": "b3bea246-a706-4b81-be5e-27a4963a0a6e",
   "metadata": {},
   "outputs": [],
   "source": [
    "from sklearn.datasets import fetch_openml"
   ]
  },
  {
   "cell_type": "code",
   "execution_count": 5,
   "id": "58d628e2-ce4a-4f43-a022-3b97f184b13e",
   "metadata": {},
   "outputs": [],
   "source": [
    "mnist=fetch_openml(\"mnist_784\",version=1,as_frame=False)"
   ]
  },
  {
   "cell_type": "code",
   "execution_count": 6,
   "id": "f988f1d7-30ca-4760-b10c-caa2269422e0",
   "metadata": {},
   "outputs": [
    {
     "data": {
      "text/plain": [
       "dict_keys(['data', 'target', 'frame', 'categories', 'feature_names', 'target_names', 'DESCR', 'details', 'url'])"
      ]
     },
     "execution_count": 6,
     "metadata": {},
     "output_type": "execute_result"
    }
   ],
   "source": [
    "mnist.keys()"
   ]
  },
  {
   "cell_type": "code",
   "execution_count": 7,
   "id": "a6dd4881-f22a-47a3-ba6b-aac7e05517a3",
   "metadata": {},
   "outputs": [
    {
     "data": {
      "text/plain": [
       "\"**Author**: Yann LeCun, Corinna Cortes, Christopher J.C. Burges  \\n**Source**: [MNIST Website](http://yann.lecun.com/exdb/mnist/) - Date unknown  \\n**Please cite**:  \\n\\nThe MNIST database of handwritten digits with 784 features, raw data available at: http://yann.lecun.com/exdb/mnist/. It can be split in a training set of the first 60,000 examples, and a test set of 10,000 examples  \\n\\nIt is a subset of a larger set available from NIST. The digits have been size-normalized and centered in a fixed-size image. It is a good database for people who want to try learning techniques and pattern recognition methods on real-world data while spending minimal efforts on preprocessing and formatting. The original black and white (bilevel) images from NIST were size normalized to fit in a 20x20 pixel box while preserving their aspect ratio. The resulting images contain grey levels as a result of the anti-aliasing technique used by the normalization algorithm. the images were centered in a 28x28 image by computing the center of mass of the pixels, and translating the image so as to position this point at the center of the 28x28 field.  \\n\\nWith some classification methods (particularly template-based methods, such as SVM and K-nearest neighbors), the error rate improves when the digits are centered by bounding box rather than center of mass. If you do this kind of pre-processing, you should report it in your publications. The MNIST database was constructed from NIST's NIST originally designated SD-3 as their training set and SD-1 as their test set. However, SD-3 is much cleaner and easier to recognize than SD-1. The reason for this can be found on the fact that SD-3 was collected among Census Bureau employees, while SD-1 was collected among high-school students. Drawing sensible conclusions from learning experiments requires that the result be independent of the choice of training set and test among the complete set of samples. Therefore it was necessary to build a new database by mixing NIST's datasets.  \\n\\nThe MNIST training set is composed of 30,000 patterns from SD-3 and 30,000 patterns from SD-1. Our test set was composed of 5,000 patterns from SD-3 and 5,000 patterns from SD-1. The 60,000 pattern training set contained examples from approximately 250 writers. We made sure that the sets of writers of the training set and test set were disjoint. SD-1 contains 58,527 digit images written by 500 different writers. In contrast to SD-3, where blocks of data from each writer appeared in sequence, the data in SD-1 is scrambled. Writer identities for SD-1 is available and we used this information to unscramble the writers. We then split SD-1 in two: characters written by the first 250 writers went into our new training set. The remaining 250 writers were placed in our test set. Thus we had two sets with nearly 30,000 examples each. The new training set was completed with enough examples from SD-3, starting at pattern # 0, to make a full set of 60,000 training patterns. Similarly, the new test set was completed with SD-3 examples starting at pattern # 35,000 to make a full set with 60,000 test patterns. Only a subset of 10,000 test images (5,000 from SD-1 and 5,000 from SD-3) is available on this site. The full 60,000 sample training set is available.\\n\\nDownloaded from openml.org.\""
      ]
     },
     "execution_count": 7,
     "metadata": {},
     "output_type": "execute_result"
    }
   ],
   "source": [
    "mnist.DESCR"
   ]
  },
  {
   "cell_type": "code",
   "execution_count": 8,
   "id": "0247a06a-f7fa-4136-847e-ee3eedf61606",
   "metadata": {},
   "outputs": [
    {
     "data": {
      "text/plain": [
       "array([[0., 0., 0., ..., 0., 0., 0.],\n",
       "       [0., 0., 0., ..., 0., 0., 0.],\n",
       "       [0., 0., 0., ..., 0., 0., 0.],\n",
       "       ...,\n",
       "       [0., 0., 0., ..., 0., 0., 0.],\n",
       "       [0., 0., 0., ..., 0., 0., 0.],\n",
       "       [0., 0., 0., ..., 0., 0., 0.]])"
      ]
     },
     "execution_count": 8,
     "metadata": {},
     "output_type": "execute_result"
    }
   ],
   "source": [
    "mnist.data"
   ]
  },
  {
   "cell_type": "code",
   "execution_count": 9,
   "id": "24a7e6a7-bac5-4a47-af11-8cb40d235e2b",
   "metadata": {},
   "outputs": [
    {
     "data": {
      "text/plain": [
       "(70000, 784)"
      ]
     },
     "execution_count": 9,
     "metadata": {},
     "output_type": "execute_result"
    }
   ],
   "source": [
    "X=mnist.data\n",
    "X.shape"
   ]
  },
  {
   "cell_type": "markdown",
   "id": "b39a2324-4598-4573-8765-a855572c8e81",
   "metadata": {},
   "source": [
    "## There are 70000 mages and each image has 784 features,this is because each image is 28x28 pixels,and each feature simply represent one pixel's intensity from 0(white) to 255(black)"
   ]
  },
  {
   "cell_type": "code",
   "execution_count": 10,
   "id": "6a37cd6e-d1f9-4250-8a5f-ac7aca3c410f",
   "metadata": {},
   "outputs": [
    {
     "data": {
      "text/plain": [
       "(70000,)"
      ]
     },
     "execution_count": 10,
     "metadata": {},
     "output_type": "execute_result"
    }
   ],
   "source": [
    "y=mnist.target #let define the y as a target\n",
    "y.shape"
   ]
  },
  {
   "cell_type": "markdown",
   "id": "d27e3a5e-138e-456d-993b-6a6f750c04ef",
   "metadata": {},
   "source": [
    "## lets plot the one digit of the image set"
   ]
  },
  {
   "cell_type": "code",
   "execution_count": 11,
   "id": "a142d1bc-6f87-4b19-985e-8aaaaf150131",
   "metadata": {},
   "outputs": [],
   "source": [
    "some_digit=X[0]\n",
    "some_digit_image=some_digit.reshape(28,28)"
   ]
  },
  {
   "cell_type": "code",
   "execution_count": 12,
   "id": "c7e67cb9-6098-42bf-93a4-f8ea94683f1c",
   "metadata": {},
   "outputs": [
    {
     "data": {
      "image/png": "[encoded data removed]",
      "text/plain": [
       "<Figure size 640x480 with 1 Axes>"
      ]
     },
     "metadata": {},
     "output_type": "display_data"
    }
   ],
   "source": [
    "plt.imshow(some_digit_image,cmap='BrBG')\n",
    "plt.show()"
   ]
  },
  {
   "cell_type": "code",
   "execution_count": 13,
   "id": "b2fd2fa0-a94b-4743-84cd-6025cd234d11",
   "metadata": {},
   "outputs": [
    {
     "name": "stdout",
     "output_type": "stream",
     "text": [
      "<class 'str'>\n"
     ]
    }
   ],
   "source": [
    "print(type(y[0]))"
   ]
  },
  {
   "cell_type": "markdown",
   "id": "4cbd2e44-24aa-42da-85e8-091bfa0dba05",
   "metadata": {},
   "source": [
    "## Note that the label is a string.most ML algorithms expect numbers,so let's cast complete y to integer"
   ]
  },
  {
   "cell_type": "code",
   "execution_count": 14,
   "id": "7e569366-c3fc-4ef7-a6d5-b85a5610719e",
   "metadata": {},
   "outputs": [
    {
     "data": {
      "text/plain": [
       "array([5, 0, 4, ..., 4, 5, 6], dtype=uint8)"
      ]
     },
     "execution_count": 14,
     "metadata": {},
     "output_type": "execute_result"
    }
   ],
   "source": [
    "y=y.astype(np.uint8)\n",
    "y"
   ]
  },
  {
   "cell_type": "code",
   "execution_count": 35,
   "id": "aa593cbd-950f-446a-911f-4220b7d1c7d8",
   "metadata": {},
   "outputs": [],
   "source": [
    "def plot_digit(instances,images_per_row=10,**options):\n",
    "    size=28\n",
    "    images_per_row=min(len(instances),images_per_row)\n",
    "    n_rows=(len(instances)-1) //images_per_row+1\n",
    "    n_empty=n_rows*images_per_row-len(instances)\n",
    "    padded_instances=np.concatenate([instances,np.zeros((n_empty,size*size))],axis=0)\n",
    "    image_grid=padded_instances.reshape(n_rows,images_per_row,size,size)\n",
    "    big_image=image_grid.transpose(0,2,1,3).reshape(n_rows*size,images_per_row*size)\n",
    "    plt.imshow(big_image,cmap=mpl.cm.binary,**options)\n",
    "    plt.axis('off')"
   ]
  },
  {
   "cell_type": "code",
   "execution_count": 36,
   "id": "d9da0220-e1eb-46bc-8979-d56fd16a37dd",
   "metadata": {},
   "outputs": [
    {
     "ename": "NameError",
     "evalue": "name 'mpl' is not defined",
     "output_type": "error",
     "traceback": [
      "\u001b[1;31m---------------------------------------------------------------------------\u001b[0m",
      "\u001b[1;31mNameError\u001b[0m                                 Traceback (most recent call last)",
      "Cell \u001b[1;32mIn[36], line 3\u001b[0m\n\u001b[0;32m      1\u001b[0m plt\u001b[38;5;241m.\u001b[39mfigure(figsize\u001b[38;5;241m=\u001b[39m(\u001b[38;5;241m8\u001b[39m,\u001b[38;5;241m8\u001b[39m))\n\u001b[0;32m      2\u001b[0m example_images\u001b[38;5;241m=\u001b[39mX[:\u001b[38;5;241m100\u001b[39m]\n\u001b[1;32m----> 3\u001b[0m plot_digit(example_images,images_per_row\u001b[38;5;241m=\u001b[39m\u001b[38;5;241m10\u001b[39m)\n\u001b[0;32m      4\u001b[0m plt\u001b[38;5;241m.\u001b[39mshow()\n",
      "Cell \u001b[1;32mIn[35], line 9\u001b[0m, in \u001b[0;36mplot_digit\u001b[1;34m(instances, images_per_row, **options)\u001b[0m\n\u001b[0;32m      7\u001b[0m image_grid\u001b[38;5;241m=\u001b[39mpadded_instances\u001b[38;5;241m.\u001b[39mreshape(n_rows,images_per_row,size,size)\n\u001b[0;32m      8\u001b[0m big_image\u001b[38;5;241m=\u001b[39mimage_grid\u001b[38;5;241m.\u001b[39mtranspose(\u001b[38;5;241m0\u001b[39m,\u001b[38;5;241m2\u001b[39m,\u001b[38;5;241m1\u001b[39m,\u001b[38;5;241m3\u001b[39m)\u001b[38;5;241m.\u001b[39mreshape(n_rows\u001b[38;5;241m*\u001b[39msize,images_per_row\u001b[38;5;241m*\u001b[39msize)\n\u001b[1;32m----> 9\u001b[0m plt\u001b[38;5;241m.\u001b[39mimshow(big_image,cmap\u001b[38;5;241m=\u001b[39mmpl\u001b[38;5;241m.\u001b[39mcm\u001b[38;5;241m.\u001b[39mbinary,\u001b[38;5;241m*\u001b[39m\u001b[38;5;241m*\u001b[39moptions)\n\u001b[0;32m     10\u001b[0m plt\u001b[38;5;241m.\u001b[39maxis(\u001b[38;5;124m'\u001b[39m\u001b[38;5;124moff\u001b[39m\u001b[38;5;124m'\u001b[39m)\n",
      "\u001b[1;31mNameError\u001b[0m: name 'mpl' is not defined"
     ]
    },
    {
     "data": {
      "text/plain": [
       "<Figure size 800x800 with 0 Axes>"
      ]
     },
     "metadata": {},
     "output_type": "display_data"
    }
   ],
   "source": [
    "plt.figure(figsize=(8,8))\n",
    "example_images=X[:100]\n",
    "plot_digit(example_images,images_per_row=10)\n",
    "plt.show()"
   ]
  },
  {
   "cell_type": "code",
   "execution_count": null,
   "id": "61d19d65-2f3d-404f-bbfa-476aade43854",
   "metadata": {},
   "outputs": [],
   "source": []
  }
 ],
 "metadata": {
  "kernelspec": {
   "display_name": "Python 3 (ipykernel)",
   "language": "python",
   "name": "python3"
  },
  "language_info": {
   "codemirror_mode": {
    "name": "ipython",
    "version": 3
   },
   "file_extension": ".py",
   "mimetype": "text/x-python",
   "name": "python",
   "nbconvert_exporter": "python",
   "pygments_lexer": "ipython3",
   "version": "3.11.7"
  }
 },
 "nbformat": 4,
 "nbformat_minor": 5
}
